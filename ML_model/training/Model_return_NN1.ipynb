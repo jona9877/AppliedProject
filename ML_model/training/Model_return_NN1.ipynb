{
 "cells": [
  {
   "cell_type": "code",
   "execution_count": 1,
   "metadata": {},
   "outputs": [],
   "source": [
    "import copy\n",
    "import time\n",
    "import pandas as pd\n",
    "import numpy as np\n",
    "import datetime\n",
    "import warnings\n",
    "warnings.filterwarnings('ignore')\n",
    "\n",
    "from Function import NN1,Window_NN"
   ]
  },
  {
   "cell_type": "code",
   "execution_count": 2,
   "metadata": {},
   "outputs": [],
   "source": [
    "folderpath = 'C:/Users/deku2/PycharmProjects/AppliedProject/Processing/Processed_data/'\n",
    "sentiment = pd.read_csv(folderpath + 'Processed_bitcoin_2017-12-01_2021-07-01_withlags_minmax.csv')\n",
    "sentiment = sentiment.rename(columns={\"created_at\": \"Date\"})\n",
    "sentiment = sentiment.set_index('Date')\n",
    "price = pd.read_csv(folderpath + 'Processed_BTC-USD_withlags_3%.csv')\n",
    "price = price.set_index('Date')\n",
    "data = pd.concat([sentiment,price], axis=1)"
   ]
  },
  {
   "cell_type": "code",
   "execution_count": 3,
   "metadata": {},
   "outputs": [],
   "source": [
    "X_train = data.drop(columns=['State','State_tmr'])[0:1096]\n",
    "Y_train = data['State_tmr'][0:1096]\n",
    "Return_train = X_train['Return']\n",
    "X_test = data.drop(columns=['State','State_tmr'])\n",
    "Y_test = data['State_tmr']\n",
    "windows = [180,365,730]\n",
    "seed = 123\n",
    "np.random.seed(seed)\n",
    "performance_measures = ['precision', 'recall', 'f1', 'roc_auc', 'accuracy']"
   ]
  },
  {
   "cell_type": "code",
   "execution_count": 4,
   "metadata": {},
   "outputs": [],
   "source": [
    "# Set performance to Performance(Y_train[1096:], y_pred[1096:])\n",
    "#X_train[912:]\n",
    "#X_test[1096:]"
   ]
  },
  {
   "cell_type": "code",
   "execution_count": 5,
   "metadata": {},
   "outputs": [
    {
     "name": "stdout",
     "output_type": "stream",
     "text": [
      "epoch = 10 \tbatch = 25 \twindow =  180\n",
      "WARNING:tensorflow:5 out of the last 5 calls to <function Model.make_predict_function.<locals>.predict_function at 0x0000023DC6C76550> triggered tf.function retracing. Tracing is expensive and the excessive number of tracings could be due to (1) creating @tf.function repeatedly in a loop, (2) passing tensors with different shapes, (3) passing Python objects instead of tensors. For (1), please define your @tf.function outside of the loop. For (2), @tf.function has experimental_relax_shapes=True option that relaxes argument shapes that can avoid unnecessary retracing. For (3), please refer to https://www.tensorflow.org/guide/function#controlling_retracing and https://www.tensorflow.org/api_docs/python/tf/function for  more details.\n",
      "WARNING:tensorflow:6 out of the last 6 calls to <function Model.make_predict_function.<locals>.predict_function at 0x0000023DC70FBF70> triggered tf.function retracing. Tracing is expensive and the excessive number of tracings could be due to (1) creating @tf.function repeatedly in a loop, (2) passing tensors with different shapes, (3) passing Python objects instead of tensors. For (1), please define your @tf.function outside of the loop. For (2), @tf.function has experimental_relax_shapes=True option that relaxes argument shapes that can avoid unnecessary retracing. For (3), please refer to https://www.tensorflow.org/guide/function#controlling_retracing and https://www.tensorflow.org/api_docs/python/tf/function for  more details.\n",
      "time taken =  25.4 min [0.20212765957446807, 0.6785714285714286, 0.3114754098360656, 0.5989010989010989, 0.5434782608695652]\n",
      "epoch = 10 \tbatch = 25 \twindow =  365\n",
      "time taken =  21.9 min [0.1590909090909091, 0.25, 0.19444444444444445, 0.5064102564102564, 0.6847826086956522]\n",
      "epoch = 10 \tbatch = 25 \twindow =  730\n",
      "time taken =  13.1 min [0.35, 0.25, 0.2916666666666667, 0.5833333333333333, 0.8152173913043478]\n",
      "epoch = 10 \tbatch = 50 \twindow =  180\n",
      "time taken =  26.0 min [0.2087912087912088, 0.6785714285714286, 0.31932773109243695, 0.6085164835164836, 0.5597826086956522]\n",
      "epoch = 10 \tbatch = 50 \twindow =  365\n",
      "time taken =  18.7 min [0.21153846153846154, 0.39285714285714285, 0.275, 0.5650183150183151, 0.6847826086956522]\n",
      "epoch = 10 \tbatch = 50 \twindow =  730\n",
      "time taken =  10.2 min [0.25, 0.14285714285714285, 0.18181818181818182, 0.532967032967033, 0.8043478260869565]\n",
      "epoch = 10 \tbatch = 100 \twindow =  180\n",
      "time taken =  26.1 min [0.21333333333333335, 0.5714285714285714, 0.3106796116504854, 0.5966117216117216, 0.6141304347826086]\n",
      "epoch = 10 \tbatch = 100 \twindow =  365\n",
      "time taken =  18.6 min [0.19230769230769232, 0.35714285714285715, 0.25, 0.543956043956044, 0.6739130434782609]\n",
      "epoch = 10 \tbatch = 100 \twindow =  730\n",
      "time taken =  8.5 min [0.28, 0.25, 0.2641509433962264, 0.5673076923076923, 0.7880434782608695]\n",
      "epoch = 10 \tbatch = 150 \twindow =  180\n",
      "time taken =  22.9 min [0.2463768115942029, 0.6071428571428571, 0.35051546391752575, 0.636904761904762, 0.657608695652174]\n",
      "epoch = 10 \tbatch = 150 \twindow =  365\n",
      "time taken =  19.1 min [0.1702127659574468, 0.2857142857142857, 0.2133333333333333, 0.5178571428571428, 0.6793478260869565]\n",
      "epoch = 10 \tbatch = 150 \twindow =  730\n",
      "time taken =  9.8 min [0.25925925925925924, 0.25, 0.2545454545454545, 0.5608974358974359, 0.7771739130434783]\n"
     ]
    }
   ],
   "source": [
    "columns = ['epochs', 'batch_size', 'windows'] + performance_measures + ['model_return']\n",
    "results = []\n",
    "model_returns = []\n",
    "epochs = [10]\n",
    "batch_size = [25, 50, 100, 150]\n",
    "for epoch in epochs:\n",
    "    for batch in batch_size:\n",
    "        for window in windows:\n",
    "            print('epoch =',epoch, '\\tbatch =',batch, '\\twindow = ', window)\n",
    "            start = time.time()\n",
    "            result, model_return = Window_NN(X_train, Y_train, Return_train, window, 1, 0, NN1, epoch, batch)\n",
    "            end = time.time()\n",
    "            results.append([epoch,batch,window] + result + [model_return[-1]])\n",
    "            model_returns.append(model_return)\n",
    "            print('time taken = ', np.round((end - start)/60, 1), 'min', result)\n",
    "NN1_under = pd.DataFrame(results,columns=columns)\n",
    "NN1_under.to_csv(f'NN/NN1_under.csv')\n",
    "NN1_under_returns = pd.DataFrame(model_returns)\n",
    "NN1_under_returns.to_csv(f'NN/NN1_under_returns.csv')"
   ]
  },
  {
   "cell_type": "code",
   "execution_count": 6,
   "metadata": {},
   "outputs": [
    {
     "name": "stdout",
     "output_type": "stream",
     "text": [
      "epoch = 10 \tbatch = 25 \twindow =  180\n",
      "time taken =  22.4 min [0.20967741935483872, 0.4642857142857143, 0.2888888888888889, 0.575091575091575, 0.6521739130434783]\n",
      "epoch = 10 \tbatch = 25 \twindow =  365\n",
      "time taken =  19.3 min [0.1509433962264151, 0.2857142857142857, 0.19753086419753085, 0.49862637362637363, 0.6467391304347826]\n",
      "epoch = 10 \tbatch = 25 \twindow =  730\n",
      "time taken =  10.4 min [0.1523809523809524, 0.5714285714285714, 0.2406015037593985, 0.5004578754578755, 0.45108695652173914]\n",
      "epoch = 10 \tbatch = 50 \twindow =  180\n",
      "time taken =  22.5 min [0.29333333333333333, 0.7857142857142857, 0.42718446601941745, 0.7229853479853479, 0.6793478260869565]\n",
      "epoch = 10 \tbatch = 50 \twindow =  365\n",
      "time taken =  19.2 min [0.22727272727272727, 0.35714285714285715, 0.2777777777777778, 0.5695970695970696, 0.717391304347826]\n",
      "epoch = 10 \tbatch = 50 \twindow =  730\n",
      "time taken =  10.3 min [0.17592592592592593, 0.6785714285714286, 0.27941176470588236, 0.5540293040293041, 0.4673913043478261]\n",
      "epoch = 10 \tbatch = 100 \twindow =  180\n",
      "time taken =  23.5 min [0.20238095238095238, 0.6071428571428571, 0.30357142857142855, 0.5888278388278387, 0.5760869565217391]\n",
      "epoch = 10 \tbatch = 100 \twindow =  365\n",
      "time taken =  19.4 min [0.18, 0.32142857142857145, 0.23076923076923075, 0.5293040293040293, 0.6739130434782609]\n",
      "epoch = 10 \tbatch = 100 \twindow =  730\n",
      "time taken =  10.0 min [0.15178571428571427, 0.6071428571428571, 0.24285714285714283, 0.4990842490842491, 0.42391304347826086]\n",
      "epoch = 10 \tbatch = 150 \twindow =  180\n",
      "time taken =  24.8 min [0.20481927710843373, 0.6071428571428571, 0.3063063063063063, 0.5920329670329669, 0.5815217391304348]\n",
      "epoch = 10 \tbatch = 150 \twindow =  365\n",
      "time taken =  20.1 min [0.22641509433962265, 0.42857142857142855, 0.2962962962962963, 0.5828754578754579, 0.6902173913043478]\n",
      "epoch = 10 \tbatch = 150 \twindow =  730\n",
      "time taken =  10.1 min [0.1504424778761062, 0.6071428571428571, 0.24113475177304966, 0.4958791208791209, 0.41847826086956524]\n"
     ]
    }
   ],
   "source": [
    "columns = ['epochs', 'batch_size', 'windows'] + performance_measures + ['model_return']\n",
    "results = []\n",
    "model_returns = []\n",
    "epochs = [10]\n",
    "batch_size = [25, 50, 100, 150]\n",
    "for epoch in epochs:\n",
    "    for batch in batch_size:\n",
    "        for window in windows:\n",
    "            print('epoch =',epoch, '\\tbatch =',batch, '\\twindow = ', window)\n",
    "            start = time.time()\n",
    "            result, model_return = Window_NN(X_train, Y_train, Return_train, window, 1, 1, NN1, epoch, batch)\n",
    "            end = time.time()\n",
    "            results.append([epoch,batch,window] + result + [model_return[-1]])\n",
    "            model_returns.append(model_return)\n",
    "            print('time taken = ', np.round((end - start)/60, 1), 'min', result)\n",
    "NN1_over = pd.DataFrame(results,columns=columns)\n",
    "NN1_over.to_csv(f'NN/NN1_over.csv')\n",
    "NN1_over_returns = pd.DataFrame(model_returns)\n",
    "NN1_over_returns.to_csv(f'NN/NN1_over_returns.csv')"
   ]
  },
  {
   "cell_type": "code",
   "execution_count": null,
   "metadata": {},
   "outputs": [],
   "source": []
  }
 ],
 "metadata": {
  "interpreter": {
   "hash": "18e608831815d93cd99bcf6687ab99c6a782057a5c78ecd22dd3e646b357834f"
  },
  "kernelspec": {
   "display_name": "Python 3",
   "language": "python",
   "name": "python3"
  },
  "language_info": {
   "codemirror_mode": {
    "name": "ipython",
    "version": 3
   },
   "file_extension": ".py",
   "mimetype": "text/x-python",
   "name": "python",
   "nbconvert_exporter": "python",
   "pygments_lexer": "ipython3",
   "version": "3.8.3"
  }
 },
 "nbformat": 4,
 "nbformat_minor": 4
}
