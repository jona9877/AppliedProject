{
 "cells": [
  {
   "cell_type": "code",
   "execution_count": 1,
   "metadata": {},
   "outputs": [],
   "source": [
    "import copy\n",
    "import time\n",
    "import pandas as pd\n",
    "import numpy as np\n",
    "import datetime\n",
    "import warnings\n",
    "warnings.filterwarnings('ignore')\n",
    "\n",
    "from Function import Window_LogReg,Window_pca,Window_rf,Window_KNN,Model_return"
   ]
  },
  {
   "cell_type": "code",
   "execution_count": 2,
   "metadata": {},
   "outputs": [],
   "source": [
    "folderpath = 'C:/Users/deku2/PycharmProjects/AppliedProject/Processing/Processed_data/'\n",
    "sentiment = pd.read_csv(folderpath + 'Processed_bitcoin_2017-12-01_2021-07-01_withlags_minmax.csv')\n",
    "sentiment = sentiment.rename(columns={\"created_at\": \"Date\"})\n",
    "sentiment = sentiment.set_index('Date')\n",
    "price = pd.read_csv(folderpath + 'Processed_BTC-USD_withlags_3%.csv')\n",
    "price = price.set_index('Date')\n",
    "data = pd.concat([sentiment,price], axis=1)"
   ]
  },
  {
   "cell_type": "code",
   "execution_count": 3,
   "metadata": {},
   "outputs": [],
   "source": [
    "X_train = data.drop(columns=['State','State_tmr'])[0:1096]\n",
    "Y_train = data['State_tmr'][0:1096]\n",
    "Return_train = X_train['Return']\n",
    "X_test = data.drop(columns=['State','State_tmr'])\n",
    "Y_test = data['State_tmr']\n",
    "seed = 123\n",
    "np.random.seed(seed)\n",
    "performance_measures = ['precision', 'recall', 'f1', 'roc_auc', 'accuracy']"
   ]
  },
  {
   "cell_type": "code",
   "execution_count": 4,
   "metadata": {},
   "outputs": [
    {
     "data": {
      "text/plain": [
       "3.1737516304187077"
      ]
     },
     "execution_count": 4,
     "metadata": {},
     "output_type": "execute_result"
    }
   ],
   "source": [
    "y_test = [1]*len(Return_train[912:])\n",
    "baseline = Model_return(Return_train[912:], y_test)\n",
    "baseline[-1]"
   ]
  },
  {
   "cell_type": "code",
   "execution_count": 9,
   "metadata": {},
   "outputs": [
    {
     "data": {
      "text/plain": [
       "1.2082329975122945"
      ]
     },
     "execution_count": 9,
     "metadata": {},
     "output_type": "execute_result"
    }
   ],
   "source": [
    "Return_test = X_test['Return']\n",
    "y_test = [1]*len(Return_test[1096:])\n",
    "baseline = Model_return(Return_test[1096:], y_test)\n",
    "baseline[-1]"
   ]
  },
  {
   "cell_type": "code",
   "execution_count": 8,
   "metadata": {},
   "outputs": [],
   "source": [
    "# Set performance to Performance(Y_train[1096:], y_pred[1096:])\n",
    "# X_train[912:]"
   ]
  },
  {
   "cell_type": "code",
   "execution_count": 9,
   "metadata": {},
   "outputs": [
    {
     "name": "stdout",
     "output_type": "stream",
     "text": [
      "parameter = l2 \twindow =  180\n",
      "time taken =  0.3 min [0.2247191011235955, 0.7142857142857143, 0.3418803418803419, 0.635989010989011, 0.5815217391304348]\n",
      "parameter = l2 \twindow =  365\n",
      "time taken =  0.2 min [0.10714285714285714, 0.10714285714285714, 0.10714285714285714, 0.4734432234432235, 0.7282608695652174]\n",
      "parameter = l2 \twindow =  730\n",
      "time taken =  0.1 min [0.15384615384615385, 0.07142857142857142, 0.0975609756097561, 0.5004578754578755, 0.7989130434782609]\n"
     ]
    }
   ],
   "source": [
    "#State tmr moving window better\n",
    "columns = ['parameter', 'windows'] + performance_measures + ['model_return']\n",
    "results = []\n",
    "model_returns = []\n",
    "parameter = ['l2']\n",
    "windows = [180,365,730]\n",
    "for para in parameter:\n",
    "    for window in windows:\n",
    "        print('parameter =',para, '\\twindow = ', window)\n",
    "        start = time.time()\n",
    "        result, model_return = Window_LogReg(X_train, Y_train, Return_train, window, 1, 0, para)\n",
    "        end = time.time()\n",
    "        results.append([para,window] + result + [model_return[-1]])\n",
    "        model_returns.append(model_return)\n",
    "        print('time taken = ', np.round((end - start)/60, 1), 'min', result)\n",
    "logreg_under = pd.DataFrame(results,columns=columns)\n",
    "logreg_under.to_csv(f'standard/logreg_under.csv')\n",
    "logreg_under_returns = pd.DataFrame(model_returns)\n",
    "logreg_under_returns.to_csv(f'standard/logreg_under_returns.csv')"
   ]
  },
  {
   "cell_type": "code",
   "execution_count": 10,
   "metadata": {},
   "outputs": [
    {
     "name": "stdout",
     "output_type": "stream",
     "text": [
      "parameter = l2 \twindow =  180\n",
      "time taken =  0.3 min [0.26153846153846155, 0.6071428571428571, 0.3655913978494623, 0.6497252747252747, 0.6793478260869565]\n",
      "parameter = l2 \twindow =  365\n",
      "time taken =  0.3 min [0.1951219512195122, 0.2857142857142857, 0.2318840579710145, 0.5370879120879121, 0.7119565217391305]\n",
      "parameter = l2 \twindow =  730\n",
      "time taken =  0.2 min [0.17525773195876287, 0.6071428571428571, 0.272, 0.5471611721611722, 0.5054347826086957]\n"
     ]
    }
   ],
   "source": [
    "columns = ['parameter', 'windows'] + performance_measures + ['model_return']\n",
    "results = []\n",
    "model_returns = []\n",
    "parameter = ['l2']\n",
    "windows = [180,365,730]\n",
    "for para in parameter:\n",
    "    for window in windows:\n",
    "        print('parameter =',para, '\\twindow = ', window)\n",
    "        start = time.time()\n",
    "        result, model_return = Window_LogReg(X_train, Y_train, Return_train, window, 1, 1, para)\n",
    "        end = time.time()\n",
    "        results.append([para,window] + result + [model_return[-1]])\n",
    "        model_returns.append(model_return)\n",
    "        print('time taken = ', np.round((end - start)/60, 1), 'min', result)\n",
    "logreg_over = pd.DataFrame(results,columns=columns)\n",
    "logreg_over.to_csv(f'standard/logreg_over.csv')\n",
    "logreg_over_returns = pd.DataFrame(model_returns)\n",
    "logreg_over_returns.to_csv(f'standard/logreg_over_returns.csv')"
   ]
  },
  {
   "cell_type": "code",
   "execution_count": 11,
   "metadata": {},
   "outputs": [
    {
     "name": "stdout",
     "output_type": "stream",
     "text": [
      "parameter =  l2 \tPCA =  2 \twindow =  180\n",
      "time taken =  0.3 min [0.22988505747126436, 0.7142857142857143, 0.3478260869565217, 0.6423992673992674, 0.592391304347826]\n",
      "parameter =  l2 \tPCA =  2 \twindow =  365\n",
      "time taken =  0.2 min [0.15789473684210525, 0.21428571428571427, 0.18181818181818182, 0.5045787545787546, 0.7065217391304348]\n",
      "parameter =  l2 \tPCA =  2 \twindow =  730\n",
      "time taken =  0.1 min [0.17647058823529413, 0.10714285714285714, 0.13333333333333333, 0.5086996336996337, 0.7880434782608695]\n",
      "parameter =  l2 \tPCA =  5 \twindow =  180\n",
      "time taken =  0.3 min [0.21739130434782608, 0.7142857142857143, 0.3333333333333333, 0.6263736263736264, 0.5652173913043478]\n",
      "parameter =  l2 \tPCA =  5 \twindow =  365\n",
      "time taken =  0.2 min [0.10714285714285714, 0.10714285714285714, 0.10714285714285714, 0.4734432234432235, 0.7282608695652174]\n",
      "parameter =  l2 \tPCA =  5 \twindow =  730\n",
      "time taken =  0.1 min [0.2, 0.07142857142857142, 0.10526315789473682, 0.51007326007326, 0.8152173913043478]\n",
      "parameter =  l2 \tPCA =  10 \twindow =  180\n",
      "time taken =  0.3 min [0.21739130434782608, 0.7142857142857143, 0.3333333333333333, 0.6263736263736264, 0.5652173913043478]\n",
      "parameter =  l2 \tPCA =  10 \twindow =  365\n",
      "time taken =  0.3 min [0.13333333333333333, 0.14285714285714285, 0.1379310344827586, 0.4880952380952381, 0.7282608695652174]\n",
      "parameter =  l2 \tPCA =  10 \twindow =  730\n",
      "time taken =  0.1 min [0.15384615384615385, 0.07142857142857142, 0.0975609756097561, 0.5004578754578755, 0.7989130434782609]\n",
      "parameter =  l2 \tPCA =  20 \twindow =  180\n",
      "time taken =  0.3 min [0.2247191011235955, 0.7142857142857143, 0.3418803418803419, 0.635989010989011, 0.5815217391304348]\n",
      "parameter =  l2 \tPCA =  20 \twindow =  365\n",
      "time taken =  0.3 min [0.13793103448275862, 0.14285714285714285, 0.14035087719298248, 0.4913003663003663, 0.7336956521739131]\n",
      "parameter =  l2 \tPCA =  20 \twindow =  730\n",
      "time taken =  0.1 min [0.15384615384615385, 0.07142857142857142, 0.0975609756097561, 0.5004578754578755, 0.7989130434782609]\n"
     ]
    }
   ],
   "source": [
    "columns = ['parameter', 'PCA', 'windows'] + performance_measures + ['model_return']\n",
    "results = []\n",
    "model_returns = []\n",
    "parameter = ['l2']\n",
    "pca_para = [2, 5, 10, 20]\n",
    "windows = [180,365,730]\n",
    "for para in parameter:\n",
    "    for pca in pca_para:\n",
    "        for window in windows:\n",
    "            print('parameter = ',para, '\\tPCA = ',pca, '\\twindow = ', window)\n",
    "            start = time.time()\n",
    "            result, model_return = Window_pca(X_train, Y_train, Return_train, window, 1, 0, pca, para)\n",
    "            end = time.time()\n",
    "            results.append([para,pca,window] + result + [model_return[-1]])\n",
    "            model_returns.append(model_return)\n",
    "            print('time taken = ', np.round((end - start)/60, 1), 'min', result)\n",
    "pca_under = pd.DataFrame(results,columns=columns)\n",
    "pca_under.to_csv(f'standard/pca_under.csv')\n",
    "pca_under_returns = pd.DataFrame(model_returns)\n",
    "pca_under_returns.to_csv(f'standard/pca_under_returns.csv')"
   ]
  },
  {
   "cell_type": "code",
   "execution_count": 12,
   "metadata": {},
   "outputs": [
    {
     "name": "stdout",
     "output_type": "stream",
     "text": [
      "parameter =  l2 \tPCA =  2 \twindow =  180\n",
      "time taken =  0.3 min [0.2261904761904762, 0.6785714285714286, 0.3392857142857143, 0.6309523809523809, 0.5978260869565217]\n",
      "parameter =  l2 \tPCA =  2 \twindow =  365\n",
      "time taken =  0.3 min [0.17105263157894737, 0.4642857142857143, 0.25, 0.5302197802197803, 0.5760869565217391]\n",
      "parameter =  l2 \tPCA =  2 \twindow =  730\n",
      "time taken =  0.2 min [0.17, 0.6071428571428571, 0.265625, 0.5375457875457875, 0.4891304347826087]\n",
      "parameter =  l2 \tPCA =  5 \twindow =  180\n",
      "time taken =  0.3 min [0.25316455696202533, 0.7142857142857143, 0.3738317757009346, 0.668040293040293, 0.6358695652173914]\n",
      "parameter =  l2 \tPCA =  5 \twindow =  365\n",
      "time taken =  0.3 min [0.2127659574468085, 0.35714285714285715, 0.26666666666666666, 0.559981684981685, 0.7010869565217391]\n",
      "parameter =  l2 \tPCA =  5 \twindow =  730\n",
      "time taken =  0.2 min [0.17699115044247787, 0.7142857142857143, 0.28368794326241137, 0.5590659340659341, 0.45108695652173914]\n",
      "parameter =  l2 \tPCA =  10 \twindow =  180\n",
      "time taken =  0.3 min [0.25757575757575757, 0.6071428571428571, 0.3617021276595745, 0.6465201465201466, 0.6739130434782609]\n",
      "parameter =  l2 \tPCA =  10 \twindow =  365\n",
      "time taken =  0.3 min [0.20408163265306123, 0.35714285714285715, 0.2597402597402597, 0.5535714285714285, 0.6902173913043478]\n",
      "parameter =  l2 \tPCA =  10 \twindow =  730\n",
      "time taken =  0.2 min [0.16666666666666666, 0.6071428571428571, 0.26153846153846155, 0.5311355311355311, 0.4782608695652174]\n",
      "parameter =  l2 \tPCA =  20 \twindow =  180\n",
      "time taken =  0.3 min [0.26153846153846155, 0.6071428571428571, 0.3655913978494623, 0.6497252747252747, 0.6793478260869565]\n",
      "parameter =  l2 \tPCA =  20 \twindow =  365\n",
      "time taken =  0.4 min [0.22727272727272727, 0.35714285714285715, 0.2777777777777778, 0.5695970695970696, 0.717391304347826]\n",
      "parameter =  l2 \tPCA =  20 \twindow =  730\n",
      "time taken =  0.2 min [0.17894736842105263, 0.6071428571428571, 0.2764227642276423, 0.5535714285714286, 0.5163043478260869]\n",
      "parameter =  l2 \tPCA =  30 \twindow =  180\n",
      "time taken =  0.4 min [0.25, 0.5714285714285714, 0.34782608695652173, 0.6318681318681318, 0.6739130434782609]\n",
      "parameter =  l2 \tPCA =  30 \twindow =  365\n",
      "time taken =  0.4 min [0.16279069767441862, 0.25, 0.1971830985915493, 0.5096153846153846, 0.6902173913043478]\n",
      "parameter =  l2 \tPCA =  30 \twindow =  730\n",
      "time taken =  0.2 min [0.18947368421052632, 0.6428571428571429, 0.2926829268292683, 0.5746336996336996, 0.5271739130434783]\n"
     ]
    }
   ],
   "source": [
    "columns = ['parameter', 'PCA', 'windows'] + performance_measures + ['model_return']\n",
    "results = []\n",
    "model_returns = []\n",
    "parameter = ['l2']\n",
    "pca_para = [2, 5, 10, 20, 30]\n",
    "windows = [180,365,730]\n",
    "for para in parameter:\n",
    "    for pca in pca_para:\n",
    "        for window in windows:\n",
    "            print('parameter = ',para, '\\tPCA = ',pca, '\\twindow = ', window)\n",
    "            start = time.time()\n",
    "            result, model_return = Window_pca(X_train, Y_train, Return_train, window, 1, 1, pca, para)\n",
    "            end = time.time()\n",
    "            results.append([para,pca,window] + result + [model_return[-1]])\n",
    "            model_returns.append(model_return)\n",
    "            print('time taken = ', np.round((end - start)/60, 1), 'min', result)\n",
    "pca_over = pd.DataFrame(results,columns=columns)\n",
    "pca_over.to_csv(f'standard/pca_over.csv')\n",
    "pca_over_returns = pd.DataFrame(model_returns)\n",
    "pca_over_returns.to_csv(f'standard/pca_over_returns.csv')"
   ]
  },
  {
   "cell_type": "code",
   "execution_count": 14,
   "metadata": {},
   "outputs": [
    {
     "name": "stdout",
     "output_type": "stream",
     "text": [
      "n_neighbors =  5 window =  180\n",
      "time taken =  0.3 min [0.18867924528301888, 0.35714285714285715, 0.2469135802469136, 0.5407509157509158, 0.6684782608695652]\n",
      "n_neighbors =  5 window =  365\n",
      "time taken =  0.3 min [0.20930232558139536, 0.32142857142857145, 0.25352112676056343, 0.5517399267399267, 0.7119565217391305]\n",
      "n_neighbors =  5 window =  730\n",
      "time taken =  0.1 min [0.21428571428571427, 0.32142857142857145, 0.2571428571428572, 0.5549450549450549, 0.717391304347826]\n",
      "n_neighbors =  10 window =  180\n",
      "time taken =  0.3 min [0.2, 0.25, 0.22222222222222224, 0.5352564102564102, 0.7336956521739131]\n",
      "n_neighbors =  10 window =  365\n",
      "time taken =  0.3 min [0.14814814814814814, 0.14285714285714285, 0.14545454545454545, 0.49771062271062266, 0.7445652173913043]\n",
      "n_neighbors =  10 window =  730\n",
      "time taken =  0.1 min [0.21212121212121213, 0.25, 0.22950819672131145, 0.5416666666666667, 0.7445652173913043]\n",
      "n_neighbors =  15 window =  180\n",
      "time taken =  0.3 min [0.28205128205128205, 0.39285714285714285, 0.32835820895522383, 0.6066849816849816, 0.7554347826086957]\n",
      "n_neighbors =  15 window =  365\n",
      "time taken =  0.3 min [0.15, 0.10714285714285714, 0.125, 0.4990842490842491, 0.7717391304347826]\n",
      "n_neighbors =  15 window =  730\n",
      "time taken =  0.1 min [0.23529411764705882, 0.2857142857142857, 0.2580645161290323, 0.5595238095238095, 0.75]\n",
      "n_neighbors =  20 window =  180\n",
      "time taken =  0.3 min [0.25, 0.25, 0.25, 0.5576923076923077, 0.7717391304347826]\n",
      "n_neighbors =  20 window =  365\n",
      "time taken =  0.3 min [0.2857142857142857, 0.21428571428571427, 0.24489795918367344, 0.559065934065934, 0.7989130434782609]\n",
      "n_neighbors =  20 window =  730\n",
      "time taken =  0.1 min [0.3333333333333333, 0.25, 0.28571428571428575, 0.5801282051282051, 0.8097826086956522]\n",
      "n_neighbors =  25 window =  180\n",
      "time taken =  0.3 min [0.3125, 0.35714285714285715, 0.3333333333333333, 0.6080586080586081, 0.782608695652174]\n",
      "n_neighbors =  25 window =  365\n",
      "time taken =  0.3 min [0.3125, 0.17857142857142858, 0.22727272727272727, 0.5540293040293041, 0.8152173913043478]\n",
      "n_neighbors =  25 window =  730\n",
      "time taken =  0.1 min [0.3333333333333333, 0.21428571428571427, 0.2608695652173913, 0.5686813186813187, 0.8152173913043478]\n"
     ]
    }
   ],
   "source": [
    "columns = ['n_neighbors', 'windows'] + performance_measures + ['model_return']\n",
    "results = []\n",
    "model_returns = []\n",
    "n_neighbors = [5, 10, 15, 20, 25]\n",
    "windows = [180,365,730]\n",
    "for n in n_neighbors:\n",
    "    for window in windows:\n",
    "        print('n_neighbors = ',n,'window = ', window)\n",
    "        start = time.time()\n",
    "        result, model_return = Window_KNN(X_train, Y_train, Return_train, window, 1, 0, n)\n",
    "        end = time.time()\n",
    "        results.append([n,window] + result + [model_return[-1]])\n",
    "        model_returns.append(model_return)\n",
    "        print('time taken = ', np.round((end - start)/60, 1), 'min', result)\n",
    "KNN_under = pd.DataFrame(results,columns=columns)\n",
    "KNN_under.to_csv(f'standard/KNN_under.csv')\n",
    "KNN_under_returns = pd.DataFrame(model_returns)\n",
    "KNN_under_returns.to_csv(f'standard/KNN_under_returns.csv')"
   ]
  },
  {
   "cell_type": "code",
   "execution_count": 15,
   "metadata": {},
   "outputs": [
    {
     "name": "stdout",
     "output_type": "stream",
     "text": [
      "n_neighbors =  10 window =  180\n",
      "time taken =  0.3 min [0.16842105263157894, 0.5714285714285714, 0.2601626016260163, 0.5325091575091575, 0.5054347826086957]\n",
      "n_neighbors =  10 window =  365\n",
      "time taken =  0.3 min [0.14583333333333334, 0.5, 0.22580645161290322, 0.4871794871794871, 0.4782608695652174]\n",
      "n_neighbors =  10 window =  730\n",
      "time taken =  0.1 min [0.1559633027522936, 0.6071428571428571, 0.24817518248175183, 0.5086996336996337, 0.44021739130434784]\n",
      "n_neighbors =  20 window =  180\n",
      "time taken =  0.3 min [0.19008264462809918, 0.8214285714285714, 0.3087248322147651, 0.5966117216117216, 0.44021739130434784]\n",
      "n_neighbors =  20 window =  365\n",
      "time taken =  0.3 min [0.1388888888888889, 0.5357142857142857, 0.22058823529411764, 0.4697802197802198, 0.42391304347826086]\n",
      "n_neighbors =  20 window =  730\n",
      "time taken =  0.1 min [0.17829457364341086, 0.8214285714285714, 0.29299363057324845, 0.5709706959706959, 0.3967391304347826]\n",
      "n_neighbors =  50 window =  180\n",
      "time taken =  0.3 min [0.19402985074626866, 0.9285714285714286, 0.32098765432098764, 0.6181318681318682, 0.40217391304347827]\n",
      "n_neighbors =  50 window =  365\n",
      "time taken =  0.3 min [0.1732283464566929, 0.7857142857142857, 0.2838709677419355, 0.5563186813186812, 0.3967391304347826]\n",
      "n_neighbors =  50 window =  730\n",
      "time taken =  0.1 min [0.16666666666666666, 0.8928571428571429, 0.2808988764044944, 0.5457875457875458, 0.30434782608695654]\n",
      "n_neighbors =  100 window =  180\n",
      "time taken =  0.3 min [0.16911764705882354, 0.8214285714285714, 0.2804878048780488, 0.5485347985347986, 0.358695652173913]\n",
      "n_neighbors =  100 window =  365\n",
      "time taken =  0.3 min [0.16153846153846155, 0.75, 0.2658227848101266, 0.5256410256410257, 0.3695652173913043]\n",
      "n_neighbors =  100 window =  730\n",
      "time taken =  0.1 min [0.1518987341772152, 0.8571428571428571, 0.25806451612903225, 0.4990842490842491, 0.25]\n",
      "n_neighbors =  200 window =  180\n",
      "time taken =  0.3 min [0.1951219512195122, 0.8571428571428571, 0.3178807947019867, 0.6112637362637363, 0.44021739130434784]\n",
      "n_neighbors =  200 window =  365\n",
      "time taken =  0.3 min [0.13821138211382114, 0.6071428571428571, 0.22516556291390727, 0.4638278388278388, 0.3641304347826087]\n",
      "n_neighbors =  200 window =  730\n",
      "time taken =  0.1 min [0.15294117647058825, 0.9285714285714286, 0.26262626262626265, 0.5027472527472527, 0.20652173913043478]\n"
     ]
    }
   ],
   "source": [
    "columns = ['n_neighbors', 'windows'] + performance_measures + ['model_return']\n",
    "results = []\n",
    "model_returns = []\n",
    "n_neighbors = [10, 20, 50, 100, 200]\n",
    "windows = [180,365,730]\n",
    "for n in n_neighbors:\n",
    "    for window in windows:\n",
    "        print('n_neighbors = ',n,'window = ', window)\n",
    "        start = time.time()\n",
    "        result, model_return = Window_KNN(X_train, Y_train, Return_train, window, 1, 1, n)\n",
    "        end = time.time()\n",
    "        results.append([n,window] + result + [model_return[-1]])\n",
    "        model_returns.append(model_return)\n",
    "        print('time taken = ', np.round((end - start)/60, 1), 'min', result)\n",
    "KNN_over = pd.DataFrame(results,columns=columns)\n",
    "KNN_over.to_csv(f'standard/KNN_over.csv')\n",
    "KNN_over_returns = pd.DataFrame(model_returns)\n",
    "KNN_over_returns.to_csv(f'standard/KNN_over_returns.csv')"
   ]
  },
  {
   "cell_type": "code",
   "execution_count": 17,
   "metadata": {},
   "outputs": [
    {
     "name": "stdout",
     "output_type": "stream",
     "text": [
      "n_estimators =  10 \tmax_depth =  10 \twindow =  180\n",
      "time taken =  0.6 min [0.21621621621621623, 0.5714285714285714, 0.3137254901960784, 0.5998168498168498, 0.6195652173913043]\n",
      "n_estimators =  10 \tmax_depth =  10 \twindow =  365\n",
      "time taken =  0.5 min [0.23376623376623376, 0.6428571428571429, 0.34285714285714286, 0.6323260073260073, 0.625]\n",
      "n_estimators =  10 \tmax_depth =  10 \twindow =  730\n",
      "time taken =  0.3 min [0.21052631578947367, 0.5714285714285714, 0.3076923076923077, 0.5934065934065934, 0.6086956521739131]\n",
      "n_estimators =  10 \tmax_depth =  20 \twindow =  180\n",
      "time taken =  0.7 min [0.21621621621621623, 0.5714285714285714, 0.3137254901960784, 0.5998168498168498, 0.6195652173913043]\n",
      "n_estimators =  10 \tmax_depth =  20 \twindow =  365\n",
      "time taken =  0.6 min [0.23376623376623376, 0.6428571428571429, 0.34285714285714286, 0.6323260073260073, 0.625]\n",
      "n_estimators =  10 \tmax_depth =  20 \twindow =  730\n",
      "time taken =  0.3 min [0.22058823529411764, 0.5357142857142857, 0.3125, 0.597985347985348, 0.6413043478260869]\n",
      "n_estimators =  20 \tmax_depth =  10 \twindow =  180\n",
      "time taken =  1.1 min [0.2289156626506024, 0.6785714285714286, 0.34234234234234234, 0.6341575091575091, 0.6032608695652174]\n",
      "n_estimators =  20 \tmax_depth =  10 \twindow =  365\n",
      "time taken =  0.9 min [0.19753086419753085, 0.5714285714285714, 0.29357798165137616, 0.5773809523809523, 0.5815217391304348]\n",
      "n_estimators =  20 \tmax_depth =  10 \twindow =  730\n",
      "time taken =  0.4 min [0.20512820512820512, 0.5714285714285714, 0.3018867924528302, 0.586996336996337, 0.5978260869565217]\n",
      "n_estimators =  20 \tmax_depth =  20 \twindow =  180\n",
      "time taken =  1.0 min [0.2289156626506024, 0.6785714285714286, 0.34234234234234234, 0.6341575091575091, 0.6032608695652174]\n",
      "n_estimators =  20 \tmax_depth =  20 \twindow =  365\n",
      "time taken =  0.8 min [0.19753086419753085, 0.5714285714285714, 0.29357798165137616, 0.5773809523809523, 0.5815217391304348]\n",
      "n_estimators =  20 \tmax_depth =  20 \twindow =  730\n",
      "time taken =  0.4 min [0.20253164556962025, 0.5714285714285714, 0.2990654205607477, 0.5837912087912088, 0.592391304347826]\n",
      "n_estimators =  50 \tmax_depth =  10 \twindow =  180\n",
      "time taken =  1.8 min [0.21978021978021978, 0.7142857142857143, 0.3361344537815126, 0.6295787545787547, 0.5706521739130435]\n",
      "n_estimators =  50 \tmax_depth =  10 \twindow =  365\n",
      "time taken =  1.5 min [0.2, 0.5357142857142857, 0.2912621359223301, 0.5755494505494505, 0.6032608695652174]\n",
      "n_estimators =  50 \tmax_depth =  10 \twindow =  730\n",
      "time taken =  0.8 min [0.21518987341772153, 0.6071428571428571, 0.3177570093457944, 0.6048534798534799, 0.6032608695652174]\n",
      "n_estimators =  50 \tmax_depth =  20 \twindow =  180\n",
      "time taken =  1.9 min [0.21978021978021978, 0.7142857142857143, 0.3361344537815126, 0.6295787545787547, 0.5706521739130435]\n",
      "n_estimators =  50 \tmax_depth =  20 \twindow =  365\n",
      "time taken =  1.5 min [0.2, 0.5357142857142857, 0.2912621359223301, 0.5755494505494505, 0.6032608695652174]\n",
      "n_estimators =  50 \tmax_depth =  20 \twindow =  730\n",
      "time taken =  0.8 min [0.21621621621621623, 0.5714285714285714, 0.3137254901960784, 0.5998168498168498, 0.6195652173913043]\n",
      "n_estimators =  100 \tmax_depth =  10 \twindow =  180\n",
      "time taken =  3.4 min [0.2127659574468085, 0.7142857142857143, 0.32786885245901637, 0.61996336996337, 0.5543478260869565]\n",
      "n_estimators =  100 \tmax_depth =  10 \twindow =  365\n",
      "time taken =  2.9 min [0.19230769230769232, 0.5357142857142857, 0.28301886792452835, 0.5659340659340659, 0.5869565217391305]\n",
      "n_estimators =  100 \tmax_depth =  10 \twindow =  730\n",
      "time taken =  1.4 min [0.20270270270270271, 0.5357142857142857, 0.29411764705882354, 0.5787545787545787, 0.6086956521739131]\n",
      "n_estimators =  100 \tmax_depth =  20 \twindow =  180\n",
      "time taken =  3.3 min [0.2127659574468085, 0.7142857142857143, 0.32786885245901637, 0.61996336996337, 0.5543478260869565]\n",
      "n_estimators =  100 \tmax_depth =  20 \twindow =  365\n",
      "time taken =  2.6 min [0.19230769230769232, 0.5357142857142857, 0.28301886792452835, 0.5659340659340659, 0.5869565217391305]\n",
      "n_estimators =  100 \tmax_depth =  20 \twindow =  730\n",
      "time taken =  1.3 min [0.2, 0.5357142857142857, 0.2912621359223301, 0.5755494505494505, 0.6032608695652174]\n"
     ]
    }
   ],
   "source": [
    "columns = ['n_estimators', 'max_depth', 'windows'] + performance_measures + ['model_return']\n",
    "results = []\n",
    "model_returns = []\n",
    "n_estimators = [10, 20, 50, 100]\n",
    "max_depth = [10, 20]\n",
    "windows = [180,365,730]\n",
    "for n in n_estimators:\n",
    "    for m_depth in max_depth:\n",
    "        for window in windows:\n",
    "            print('n_estimators = ',n, '\\tmax_depth = ',m_depth, '\\twindow = ', window)\n",
    "            start = time.time()\n",
    "            result, model_return = Window_rf(X_train, Y_train, Return_train, window, 1, 0, n, m_depth)\n",
    "            end = time.time()\n",
    "            results.append([n,m_depth,window] + result + [model_return[-1]])\n",
    "            model_returns.append(model_return)\n",
    "            print('time taken = ', np.round((end - start)/60, 1), 'min', result)\n",
    "rf_under = pd.DataFrame(results,columns=columns)\n",
    "rf_under.to_csv(f'standard/rf_under.csv')\n",
    "rf_under_returns = pd.DataFrame(model_returns)\n",
    "rf_under_returns.to_csv(f'standard/rf_under_returns.csv')"
   ]
  },
  {
   "cell_type": "code",
   "execution_count": 18,
   "metadata": {},
   "outputs": [
    {
     "name": "stdout",
     "output_type": "stream",
     "text": [
      "n_estimators =  10 \tmax_depth =  10 \twindow =  180\n",
      "time taken =  0.7 min [0.0, 0.0, 0.0, 0.46474358974358976, 0.7880434782608695]\n",
      "n_estimators =  10 \tmax_depth =  10 \twindow =  365\n",
      "time taken =  0.6 min [0.058823529411764705, 0.03571428571428571, 0.044444444444444446, 0.46657509157509164, 0.7663043478260869]\n",
      "n_estimators =  10 \tmax_depth =  10 \twindow =  730\n",
      "time taken =  0.4 min [0.125, 0.14285714285714285, 0.13333333333333333, 0.48168498168498164, 0.717391304347826]\n",
      "n_estimators =  10 \tmax_depth =  20 \twindow =  180\n",
      "time taken =  0.8 min [0.18181818181818182, 0.07142857142857142, 0.10256410256410255, 0.5068681318681318, 0.8097826086956522]\n",
      "n_estimators =  10 \tmax_depth =  20 \twindow =  365\n",
      "time taken =  0.6 min [0.23529411764705882, 0.14285714285714285, 0.17777777777777778, 0.5297619047619047, 0.7989130434782609]\n",
      "n_estimators =  10 \tmax_depth =  20 \twindow =  730\n",
      "time taken =  0.4 min [0.18181818181818182, 0.07142857142857142, 0.10256410256410255, 0.5068681318681318, 0.8097826086956522]\n",
      "n_estimators =  20 \tmax_depth =  10 \twindow =  180\n",
      "time taken =  1.0 min [0.1, 0.03571428571428571, 0.05263157894736841, 0.48901098901098905, 0.8043478260869565]\n",
      "n_estimators =  20 \tmax_depth =  10 \twindow =  365\n",
      "time taken =  0.9 min [0.1875, 0.10714285714285714, 0.13636363636363635, 0.5119047619047619, 0.7934782608695652]\n",
      "n_estimators =  20 \tmax_depth =  10 \twindow =  730\n",
      "time taken =  0.5 min [0.08695652173913043, 0.07142857142857142, 0.0784313725490196, 0.4684065934065934, 0.7445652173913043]\n",
      "n_estimators =  20 \tmax_depth =  20 \twindow =  180\n",
      "time taken =  1.1 min [0.0, 0.0, 0.0, 0.4775641025641026, 0.8097826086956522]\n",
      "n_estimators =  20 \tmax_depth =  20 \twindow =  365\n",
      "time taken =  0.9 min [0.08333333333333333, 0.03571428571428571, 0.05, 0.48260073260073266, 0.7934782608695652]\n",
      "n_estimators =  20 \tmax_depth =  20 \twindow =  730\n",
      "time taken =  0.5 min [0.07142857142857142, 0.03571428571428571, 0.047619047619047616, 0.4761904761904762, 0.782608695652174]\n",
      "n_estimators =  50 \tmax_depth =  10 \twindow =  180\n",
      "time taken =  2.2 min [0.1, 0.03571428571428571, 0.05263157894736841, 0.48901098901098905, 0.8043478260869565]\n",
      "n_estimators =  50 \tmax_depth =  10 \twindow =  365\n",
      "time taken =  2.0 min [0.2, 0.07142857142857142, 0.10526315789473682, 0.51007326007326, 0.8152173913043478]\n",
      "n_estimators =  50 \tmax_depth =  10 \twindow =  730\n",
      "time taken =  1.1 min [0.05, 0.03571428571428571, 0.041666666666666664, 0.456959706959707, 0.75]\n",
      "n_estimators =  50 \tmax_depth =  20 \twindow =  180\n",
      "time taken =  2.2 min [0.0, 0.0, 0.0, 0.483974358974359, 0.8206521739130435]\n",
      "n_estimators =  50 \tmax_depth =  20 \twindow =  365\n",
      "time taken =  2.1 min [0.1, 0.03571428571428571, 0.05263157894736841, 0.48901098901098905, 0.8043478260869565]\n",
      "n_estimators =  50 \tmax_depth =  20 \twindow =  730\n",
      "time taken =  1.2 min [0.08333333333333333, 0.03571428571428571, 0.05, 0.48260073260073266, 0.7934782608695652]\n",
      "n_estimators =  100 \tmax_depth =  10 \twindow =  180\n",
      "time taken =  3.9 min [0.0, 0.0, 0.0, 0.4775641025641026, 0.8097826086956522]\n",
      "n_estimators =  100 \tmax_depth =  10 \twindow =  365\n",
      "time taken =  3.1 min [0.1, 0.03571428571428571, 0.05263157894736841, 0.48901098901098905, 0.8043478260869565]\n",
      "n_estimators =  100 \tmax_depth =  10 \twindow =  730\n",
      "time taken =  1.8 min [0.1111111111111111, 0.07142857142857142, 0.08695652173913043, 0.48443223443223443, 0.7717391304347826]\n",
      "n_estimators =  100 \tmax_depth =  20 \twindow =  180\n",
      "time taken =  3.8 min [0.1, 0.03571428571428571, 0.05263157894736841, 0.48901098901098905, 0.8043478260869565]\n",
      "n_estimators =  100 \tmax_depth =  20 \twindow =  365\n",
      "time taken =  3.2 min [0.0, 0.0, 0.0, 0.47435897435897434, 0.8043478260869565]\n",
      "n_estimators =  100 \tmax_depth =  20 \twindow =  730\n",
      "time taken =  2.0 min [0.0, 0.0, 0.0, 0.47115384615384615, 0.7989130434782609]\n"
     ]
    }
   ],
   "source": [
    "columns = ['n_estimators', 'max_depth', 'windows'] + performance_measures + ['model_return']\n",
    "results = []\n",
    "model_returns = []\n",
    "n_estimators = [10, 20, 50, 100]\n",
    "max_depth = [10, 20]\n",
    "windows = [180,365,730]\n",
    "for n in n_estimators:\n",
    "    for m_depth in max_depth:\n",
    "        for window in windows:\n",
    "            print('n_estimators = ',n, '\\tmax_depth = ',m_depth, '\\twindow = ', window)\n",
    "            start = time.time()\n",
    "            result, model_return = Window_rf(X_train, Y_train, Return_train, window, 1, 1, n, m_depth)\n",
    "            end = time.time()\n",
    "            results.append([n,m_depth,window] + result + [model_return[-1]])\n",
    "            model_returns.append(model_return)\n",
    "            print('time taken = ', np.round((end - start)/60, 1), 'min', result)\n",
    "rf_over = pd.DataFrame(results,columns=columns)\n",
    "rf_over.to_csv(f'standard/rf_over.csv')\n",
    "rf_over_returns = pd.DataFrame(model_returns)\n",
    "rf_over_returns.to_csv(f'standard/rf_over_returns.csv')"
   ]
  },
  {
   "cell_type": "code",
   "execution_count": null,
   "metadata": {},
   "outputs": [],
   "source": []
  }
 ],
 "metadata": {
  "interpreter": {
   "hash": "18e608831815d93cd99bcf6687ab99c6a782057a5c78ecd22dd3e646b357834f"
  },
  "kernelspec": {
   "display_name": "Python 3",
   "language": "python",
   "name": "python3"
  },
  "language_info": {
   "codemirror_mode": {
    "name": "ipython",
    "version": 3
   },
   "file_extension": ".py",
   "mimetype": "text/x-python",
   "name": "python",
   "nbconvert_exporter": "python",
   "pygments_lexer": "ipython3",
   "version": "3.8.3"
  }
 },
 "nbformat": 4,
 "nbformat_minor": 4
}
