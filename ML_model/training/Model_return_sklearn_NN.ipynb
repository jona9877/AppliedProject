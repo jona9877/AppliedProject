{
 "cells": [
  {
   "cell_type": "code",
   "execution_count": 36,
   "metadata": {},
   "outputs": [],
   "source": [
    "import copy\n",
    "import time\n",
    "import pandas as pd\n",
    "import numpy as np\n",
    "import datetime\n",
    "import warnings\n",
    "warnings.filterwarnings('ignore')\n",
    "\n",
    "from Function import Window_sklearn_NN1_under,Window_sklearn_NN1_over,Window_sklearn_NN2_under,Window_sklearn_NN2_over,Window_sklearn_NN3_under,Window_sklearn_NN3_over,Window_sklearn_NN4_under,Window_sklearn_NN4_over,Window_sklearn_NN5_under,Window_sklearn_NN5_over"
   ]
  },
  {
   "cell_type": "code",
   "execution_count": 3,
   "metadata": {},
   "outputs": [],
   "source": [
    "folderpath = 'C:/Users/deku2/PycharmProjects/AppliedProject/Processing/Processed_data/'\n",
    "sentiment = pd.read_csv(folderpath + 'Processed_bitcoin_2017-12-01_2021-07-01_withlags_minmax.csv')\n",
    "sentiment = sentiment.rename(columns={\"created_at\": \"Date\"})\n",
    "sentiment = sentiment.set_index('Date')\n",
    "price = pd.read_csv(folderpath + 'Processed_BTC-USD_withlags_3%.csv')\n",
    "price = price.set_index('Date')\n",
    "data = pd.concat([sentiment,price], axis=1)"
   ]
  },
  {
   "cell_type": "code",
   "execution_count": 4,
   "metadata": {},
   "outputs": [],
   "source": [
    "X_train = data.drop(columns=['State','State_tmr'])[0:1096]\n",
    "Y_train = data['State_tmr'][0:1096]\n",
    "Return_train = X_train['Return']\n",
    "X_test = data.drop(columns=['State','State_tmr'])\n",
    "Y_test = data['State_tmr']\n",
    "windows = [180,365,730]\n",
    "seed = 123\n",
    "np.random.seed(seed)\n",
    "performance_measures = ['precision', 'recall', 'f1', 'roc_auc', 'accuracy']"
   ]
  },
  {
   "cell_type": "code",
   "execution_count": 5,
   "metadata": {},
   "outputs": [],
   "source": [
    "# Set performance to Performance(Y_train[1096:], y_pred[1096:])\n",
    "#X_test[1096:]"
   ]
  },
  {
   "cell_type": "code",
   "execution_count": 6,
   "metadata": {},
   "outputs": [
    {
     "name": "stdout",
     "output_type": "stream",
     "text": [
      "window =  180\n",
      "time taken =  2.2 min [0.15690866510538642, 0.536, 0.24275362318840585, 0.5404399494310999, 0.5436681222707423]\n",
      "window =  365\n",
      "time taken =  4.3 min [0.16847826086956522, 0.5904761904761905, 0.2621564482029598, 0.5508291495511943, 0.5225718194254446]\n",
      "window =  730\n",
      "time taken =  5.5 min [0.19730941704035873, 0.7333333333333333, 0.3109540636042402, 0.5741830065359477, 0.4672131147540984]\n"
     ]
    }
   ],
   "source": [
    "columns = ['windows'] + performance_measures + ['model_return']\n",
    "results = []\n",
    "model_returns = []\n",
    "for window in windows:\n",
    "    print('window = ', window)\n",
    "    start = time.time()\n",
    "    result, model_return = Window_sklearn_NN1_under(X_train, Y_train, Return_train, window, 1)\n",
    "    end = time.time()\n",
    "    results.append([window] + result + [model_return[-1]])\n",
    "    model_returns.append(model_return)\n",
    "    print('time taken = ', np.round((end - start)/60, 1), 'min', result)\n",
    "sklearn_NN1_under = pd.DataFrame (results,columns=columns)\n",
    "sklearn_NN1_under.to_csv(f'sklearn_NN/sklearn_NN1_under.csv')\n",
    "sklearn_NN1_under_returns = pd.DataFrame(model_returns)\n",
    "sklearn_NN1_under_returns.to_csv(f'sklearn_NN/sklearn_NN1_under_returns.csv')"
   ]
  },
  {
   "cell_type": "code",
   "execution_count": 7,
   "metadata": {},
   "outputs": [
    {
     "name": "stdout",
     "output_type": "stream",
     "text": [
      "window =  180\n",
      "time taken =  14.1 min [0.16666666666666666, 0.24, 0.19672131147540983, 0.5251833122629583, 0.732532751091703]\n",
      "window =  365\n",
      "time taken =  37.9 min [0.13934426229508196, 0.1619047619047619, 0.14977973568281935, 0.49708656625589537, 0.7359781121751026]\n",
      "window =  730\n",
      "time taken =  54.9 min [0.13924050632911392, 0.18333333333333332, 0.15827338129496402, 0.48055555555555557, 0.680327868852459]\n"
     ]
    }
   ],
   "source": [
    "columns = ['windows'] + performance_measures + ['model_return']\n",
    "results = []\n",
    "model_returns = []\n",
    "for window in windows:\n",
    "    print('window = ', window)\n",
    "    start = time.time()\n",
    "    result, model_return = Window_sklearn_NN1_over(X_train, Y_train, Return_train, window, 1)\n",
    "    end = time.time()\n",
    "    results.append([window] + result + [model_return[-1]])\n",
    "    model_returns.append(model_return)\n",
    "    print('time taken = ', np.round((end - start)/60, 1), 'min', result)\n",
    "sklearn_NN1_over = pd.DataFrame (results,columns=columns)\n",
    "sklearn_NN1_over.to_csv(f'sklearn_NN/sklearn_NN1_over.csv')\n",
    "sklearn_NN1_over_returns = pd.DataFrame(model_returns)\n",
    "sklearn_NN1_over_returns.to_csv(f'sklearn_NN/sklearn_NN1_over_returns.csv')"
   ]
  },
  {
   "cell_type": "code",
   "execution_count": 8,
   "metadata": {},
   "outputs": [
    {
     "name": "stdout",
     "output_type": "stream",
     "text": [
      "window =  180\n",
      "time taken =  3.0 min [0.16705336426914152, 0.576, 0.2589928057553957, 0.5610720606826802, 0.5502183406113537]\n",
      "window =  365\n",
      "time taken =  5.0 min [0.17039106145251395, 0.580952380952381, 0.2634989200863931, 0.5532557431918455, 0.533515731874145]\n",
      "window =  730\n",
      "time taken =  6.6 min [0.178743961352657, 0.6166666666666667, 0.27715355805243447, 0.5305555555555556, 0.4726775956284153]\n"
     ]
    }
   ],
   "source": [
    "columns = ['windows'] + performance_measures + ['model_return']\n",
    "results = []\n",
    "model_returns = []\n",
    "for window in windows:\n",
    "    print('window = ', window)\n",
    "    start = time.time()\n",
    "    result, model_return = Window_sklearn_NN2_under(X_train, Y_train, Return_train, window, 1)\n",
    "    end = time.time()\n",
    "    results.append([window] + result + [model_return[-1]])\n",
    "    model_returns.append(model_return)\n",
    "    print('time taken = ', np.round((end - start)/60, 1), 'min', result)\n",
    "sklearn_NN2_under = pd.DataFrame (results,columns=columns)\n",
    "sklearn_NN2_under.to_csv(f'sklearn_NN/sklearn_NN2_under.csv')\n",
    "sklearn_NN2_under_returns = pd.DataFrame(model_returns)\n",
    "sklearn_NN2_under_returns.to_csv(f'sklearn_NN/sklearn_NN2_under_returns.csv')"
   ]
  },
  {
   "cell_type": "code",
   "execution_count": 9,
   "metadata": {},
   "outputs": [
    {
     "name": "stdout",
     "output_type": "stream",
     "text": [
      "window =  180\n",
      "time taken =  15.7 min [0.1443850267379679, 0.216, 0.17307692307692307, 0.5068621997471555, 0.7183406113537117]\n",
      "window =  365\n",
      "time taken =  44.0 min [0.1111111111111111, 0.12380952380952381, 0.11711711711711711, 0.47883766925300475, 0.7318741450068399]\n",
      "window =  730\n",
      "time taken =  68.5 min [0.1111111111111111, 0.18333333333333332, 0.13836477987421383, 0.44787581699346407, 0.6256830601092896]\n"
     ]
    }
   ],
   "source": [
    "columns = ['windows'] + performance_measures + ['model_return']\n",
    "results = []\n",
    "model_returns = []\n",
    "for window in windows:\n",
    "    print('window = ', window)\n",
    "    start = time.time()\n",
    "    result, model_return = Window_sklearn_NN2_over(X_train, Y_train, Return_train, window, 1)\n",
    "    end = time.time()\n",
    "    results.append([window] + result + [model_return[-1]])\n",
    "    model_returns.append(model_return)\n",
    "    print('time taken = ', np.round((end - start)/60, 1), 'min', result)\n",
    "sklearn_NN2_over = pd.DataFrame (results,columns=columns)\n",
    "sklearn_NN2_over.to_csv(f'sklearn_NN/sklearn_NN2_over.csv')\n",
    "sklearn_NN2_over_returns = pd.DataFrame(model_returns)\n",
    "sklearn_NN2_over_returns.to_csv(f'sklearn_NN/sklearn_NN2_over_returns.csv')"
   ]
  },
  {
   "cell_type": "code",
   "execution_count": 10,
   "metadata": {},
   "outputs": [
    {
     "name": "stdout",
     "output_type": "stream",
     "text": [
      "window =  180\n",
      "time taken =  3.1 min [0.15034168564920272, 0.528, 0.23404255319148937, 0.5282225031605563, 0.5283842794759825]\n",
      "window =  365\n",
      "time taken =  4.3 min [0.1608832807570978, 0.4857142857142857, 0.24170616113744078, 0.5303970789593793, 0.5622435020519836]\n",
      "window =  730\n",
      "time taken =  6.3 min [0.1839080459770115, 0.5333333333333333, 0.27350427350427353, 0.534640522875817, 0.5355191256830601]\n"
     ]
    }
   ],
   "source": [
    "columns = ['windows'] + performance_measures + ['model_return']\n",
    "results = []\n",
    "model_returns = []\n",
    "for window in windows:\n",
    "    print('window = ', window)\n",
    "    start = time.time()\n",
    "    result, model_return = Window_sklearn_NN3_under(X_train, Y_train, Return_train, window, 1)\n",
    "    end = time.time()\n",
    "    results.append([window] + result + [model_return[-1]])\n",
    "    model_returns.append(model_return)\n",
    "    print('time taken = ', np.round((end - start)/60, 1), 'min', result)\n",
    "sklearn_NN3_under = pd.DataFrame (results,columns=columns)\n",
    "sklearn_NN3_under.to_csv(f'sklearn_NN/sklearn_NN3_under.csv')\n",
    "sklearn_NN3_under_returns = pd.DataFrame(model_returns)\n",
    "sklearn_NN3_under_returns.to_csv(f'sklearn_NN/sklearn_NN3_under_returns.csv')"
   ]
  },
  {
   "cell_type": "code",
   "execution_count": 11,
   "metadata": {},
   "outputs": [
    {
     "name": "stdout",
     "output_type": "stream",
     "text": [
      "window =  180\n",
      "time taken =  16.5 min [0.15350877192982457, 0.28, 0.19830028328611898, 0.5180025284450063, 0.6910480349344978]\n",
      "window =  365\n",
      "time taken =  41.3 min [0.10559006211180125, 0.1619047619047619, 0.12781954887218047, 0.46593640651148643, 0.6826265389876881]\n",
      "window =  730\n",
      "time taken =  70.4 min [0.13978494623655913, 0.21666666666666667, 0.1699346405228758, 0.4776143790849674, 0.6530054644808743]\n"
     ]
    }
   ],
   "source": [
    "columns = ['windows'] + performance_measures + ['model_return']\n",
    "results = []\n",
    "model_returns = []\n",
    "for window in windows:\n",
    "    print('window = ', window)\n",
    "    start = time.time()\n",
    "    result, model_return = Window_sklearn_NN3_over(X_train, Y_train, Return_train, window, 1)\n",
    "    end = time.time()\n",
    "    results.append([window] + result + [model_return[-1]])\n",
    "    model_returns.append(model_return)\n",
    "    print('time taken = ', np.round((end - start)/60, 1), 'min', result)\n",
    "sklearn_NN3_over = pd.DataFrame (results,columns=columns)\n",
    "sklearn_NN3_over.to_csv(f'sklearn_NN/sklearn_NN3_over.csv')\n",
    "sklearn_NN3_over_returns = pd.DataFrame(model_returns)\n",
    "sklearn_NN3_over_returns.to_csv(f'sklearn_NN/sklearn_NN3_over_returns.csv')"
   ]
  },
  {
   "cell_type": "code",
   "execution_count": 12,
   "metadata": {},
   "outputs": [
    {
     "name": "stdout",
     "output_type": "stream",
     "text": [
      "window =  180\n",
      "time taken =  2.7 min [0.16209476309226933, 0.52, 0.24714828897338403, 0.5476106194690266, 0.5676855895196506]\n",
      "window =  365\n",
      "time taken =  3.5 min [0.13945578231292516, 0.3904761904761905, 0.20551378446115287, 0.4931614179218013, 0.5663474692202463]\n",
      "window =  730\n",
      "time taken =  4.9 min [0.15384615384615385, 0.4, 0.2222222222222222, 0.4843137254901961, 0.5409836065573771]\n"
     ]
    }
   ],
   "source": [
    "columns = ['windows'] + performance_measures + ['model_return']\n",
    "results = []\n",
    "model_returns = []\n",
    "for window in windows:\n",
    "    print('window = ', window)\n",
    "    start = time.time()\n",
    "    result, model_return = Window_sklearn_NN4_under(X_train, Y_train, Return_train, window, 1)\n",
    "    end = time.time()\n",
    "    results.append([window] + result + [model_return[-1]])\n",
    "    model_returns.append(model_return)\n",
    "    print('time taken = ', np.round((end - start)/60, 1), 'min', result)\n",
    "sklearn_NN4_under = pd.DataFrame (results,columns=columns)\n",
    "sklearn_NN4_under.to_csv(f'sklearn_NN/sklearn_NN4_under.csv')\n",
    "sklearn_NN4_under_returns = pd.DataFrame(model_returns)\n",
    "sklearn_NN4_under_returns.to_csv(f'sklearn_NN/sklearn_NN4_under_returns.csv')"
   ]
  },
  {
   "cell_type": "code",
   "execution_count": 13,
   "metadata": {},
   "outputs": [
    {
     "name": "stdout",
     "output_type": "stream",
     "text": [
      "window =  180\n",
      "time taken =  14.8 min [0.1524163568773234, 0.328, 0.2081218274111675, 0.5198786346396966, 0.6593886462882096]\n",
      "window =  365\n",
      "time taken =  36.9 min [0.15816326530612246, 0.29523809523809524, 0.20598006644518274, 0.5158299102388559, 0.6730506155950753]\n",
      "window =  730\n",
      "time taken =  54.7 min [0.1388888888888889, 0.25, 0.17857142857142858, 0.4730392156862745, 0.6229508196721312]\n"
     ]
    }
   ],
   "source": [
    "columns = ['windows'] + performance_measures + ['model_return']\n",
    "results = []\n",
    "model_returns = []\n",
    "for window in windows:\n",
    "    print('window = ', window)\n",
    "    start = time.time()\n",
    "    result, model_return = Window_sklearn_NN4_over(X_train, Y_train, Return_train, window, 1)\n",
    "    end = time.time()\n",
    "    results.append([window] + result + [model_return[-1]])\n",
    "    model_returns.append(model_return)\n",
    "    print('time taken = ', np.round((end - start)/60, 1), 'min', result)\n",
    "sklearn_NN4_over = pd.DataFrame (results,columns=columns)\n",
    "sklearn_NN4_over.to_csv(f'sklearn_NN/sklearn_NN4_over.csv')\n",
    "sklearn_NN4_over_returns = pd.DataFrame(model_returns)\n",
    "sklearn_NN4_over_returns.to_csv(f'sklearn_NN/sklearn_NN4_over_returns.csv')"
   ]
  },
  {
   "cell_type": "code",
   "execution_count": 14,
   "metadata": {},
   "outputs": [
    {
     "name": "stdout",
     "output_type": "stream",
     "text": [
      "window =  180\n",
      "time taken =  1.9 min [0.15207373271889402, 0.528, 0.23613595706618962, 0.5313830594184576, 0.5338427947598253]\n",
      "window =  365\n",
      "time taken =  2.4 min [0.13836477987421383, 0.41904761904761906, 0.20803782505910165, 0.4906739692682185, 0.5417236662106704]\n",
      "window =  730\n",
      "time taken =  3.4 min [0.17721518987341772, 0.4666666666666667, 0.25688073394495414, 0.5209150326797385, 0.5573770491803278]\n"
     ]
    }
   ],
   "source": [
    "columns = ['windows'] + performance_measures + ['model_return']\n",
    "results = []\n",
    "model_returns = []\n",
    "for window in windows:\n",
    "    print('window = ', window)\n",
    "    start = time.time()\n",
    "    result, model_return = Window_sklearn_NN5_under(X_train, Y_train, Return_train, window, 1)\n",
    "    end = time.time()\n",
    "    results.append([window] + result + [model_return[-1]])\n",
    "    model_returns.append(model_return)\n",
    "    print('time taken = ', np.round((end - start)/60, 1), 'min', result)\n",
    "sklearn_NN5_under = pd.DataFrame (results,columns=columns)\n",
    "sklearn_NN5_under.to_csv(f'sklearn_NN/sklearn_NN5_under.csv')\n",
    "sklearn_NN5_under_returns = pd.DataFrame(model_returns)\n",
    "sklearn_NN5_under_returns.to_csv(f'sklearn_NN/sklearn_NN5_under_returns.csv')"
   ]
  },
  {
   "cell_type": "code",
   "execution_count": 15,
   "metadata": {},
   "outputs": [
    {
     "name": "stdout",
     "output_type": "stream",
     "text": [
      "window =  180\n",
      "time taken =  8.1 min [0.14652956298200515, 0.456, 0.2217898832684825, 0.5181390644753476, 0.5633187772925764]\n",
      "window =  365\n",
      "time taken =  17.6 min [0.14776632302405499, 0.4095238095238095, 0.21717171717171715, 0.5066788376692529, 0.5759233926128591]\n",
      "window =  730\n",
      "time taken =  25.7 min [0.13253012048192772, 0.36666666666666664, 0.19469026548672566, 0.4480392156862745, 0.5027322404371585]\n"
     ]
    }
   ],
   "source": [
    "columns = ['windows'] + performance_measures + ['model_return']\n",
    "results = []\n",
    "model_returns = []\n",
    "for window in windows:\n",
    "    print('window = ', window)\n",
    "    start = time.time()\n",
    "    result, model_return = Window_sklearn_NN5_over(X_train, Y_train, Return_train, window, 1)\n",
    "    end = time.time()\n",
    "    results.append([window] + result + [model_return[-1]])\n",
    "    model_returns.append(model_return)\n",
    "    print('time taken = ', np.round((end - start)/60, 1), 'min', result)\n",
    "sklearn_NN5_over = pd.DataFrame (results,columns=columns)\n",
    "sklearn_NN5_over.to_csv(f'sklearn_NN/sklearn_NN5_over.csv')\n",
    "sklearn_NN5_over_returns = pd.DataFrame(model_returns)\n",
    "sklearn_NN5_over_returns.to_csv(f'sklearn_NN/sklearn_NN5_over_returns.csv')"
   ]
  },
  {
   "cell_type": "code",
   "execution_count": 19,
   "metadata": {},
   "outputs": [
    {
     "data": {
      "text/html": [
       "<div>\n",
       "<style scoped>\n",
       "    .dataframe tbody tr th:only-of-type {\n",
       "        vertical-align: middle;\n",
       "    }\n",
       "\n",
       "    .dataframe tbody tr th {\n",
       "        vertical-align: top;\n",
       "    }\n",
       "\n",
       "    .dataframe thead th {\n",
       "        text-align: right;\n",
       "    }\n",
       "</style>\n",
       "<table border=\"1\" class=\"dataframe\">\n",
       "  <thead>\n",
       "    <tr style=\"text-align: right;\">\n",
       "      <th></th>\n",
       "      <th>2018-07-01</th>\n",
       "      <th>2018-07-02</th>\n",
       "      <th>2018-07-03</th>\n",
       "      <th>2018-07-04</th>\n",
       "      <th>2018-07-05</th>\n",
       "      <th>2018-07-06</th>\n",
       "      <th>2018-07-07</th>\n",
       "      <th>2018-07-08</th>\n",
       "      <th>2018-07-09</th>\n",
       "      <th>2018-07-10</th>\n",
       "      <th>...</th>\n",
       "      <th>2020-12-22</th>\n",
       "      <th>2020-12-23</th>\n",
       "      <th>2020-12-24</th>\n",
       "      <th>2020-12-25</th>\n",
       "      <th>2020-12-26</th>\n",
       "      <th>2020-12-27</th>\n",
       "      <th>2020-12-28</th>\n",
       "      <th>2020-12-29</th>\n",
       "      <th>2020-12-30</th>\n",
       "      <th>2020-12-31</th>\n",
       "    </tr>\n",
       "  </thead>\n",
       "  <tbody>\n",
       "    <tr>\n",
       "      <th>Return</th>\n",
       "      <td>0.997161</td>\n",
       "      <td>0.997161</td>\n",
       "      <td>0.984408</td>\n",
       "      <td>0.984408</td>\n",
       "      <td>0.984408</td>\n",
       "      <td>0.984408</td>\n",
       "      <td>0.984408</td>\n",
       "      <td>0.984408</td>\n",
       "      <td>0.984408</td>\n",
       "      <td>0.984408</td>\n",
       "      <td>...</td>\n",
       "      <td>1.262858</td>\n",
       "      <td>1.234095</td>\n",
       "      <td>1.234095</td>\n",
       "      <td>1.234095</td>\n",
       "      <td>1.322768</td>\n",
       "      <td>1.314526</td>\n",
       "      <td>1.314526</td>\n",
       "      <td>1.328000</td>\n",
       "      <td>1.399758</td>\n",
       "      <td>1.407560</td>\n",
       "    </tr>\n",
       "    <tr>\n",
       "      <th>Return</th>\n",
       "      <td>NaN</td>\n",
       "      <td>NaN</td>\n",
       "      <td>NaN</td>\n",
       "      <td>NaN</td>\n",
       "      <td>NaN</td>\n",
       "      <td>NaN</td>\n",
       "      <td>NaN</td>\n",
       "      <td>NaN</td>\n",
       "      <td>NaN</td>\n",
       "      <td>NaN</td>\n",
       "      <td>...</td>\n",
       "      <td>3.945092</td>\n",
       "      <td>3.855238</td>\n",
       "      <td>3.855238</td>\n",
       "      <td>3.855238</td>\n",
       "      <td>4.132250</td>\n",
       "      <td>4.106500</td>\n",
       "      <td>4.106500</td>\n",
       "      <td>4.148593</td>\n",
       "      <td>4.372760</td>\n",
       "      <td>4.397135</td>\n",
       "    </tr>\n",
       "    <tr>\n",
       "      <th>Return</th>\n",
       "      <td>NaN</td>\n",
       "      <td>NaN</td>\n",
       "      <td>NaN</td>\n",
       "      <td>NaN</td>\n",
       "      <td>NaN</td>\n",
       "      <td>NaN</td>\n",
       "      <td>NaN</td>\n",
       "      <td>NaN</td>\n",
       "      <td>NaN</td>\n",
       "      <td>NaN</td>\n",
       "      <td>...</td>\n",
       "      <td>1.867769</td>\n",
       "      <td>1.867769</td>\n",
       "      <td>1.907518</td>\n",
       "      <td>1.907518</td>\n",
       "      <td>1.907518</td>\n",
       "      <td>1.895631</td>\n",
       "      <td>1.954257</td>\n",
       "      <td>1.974288</td>\n",
       "      <td>2.080968</td>\n",
       "      <td>2.092568</td>\n",
       "    </tr>\n",
       "  </tbody>\n",
       "</table>\n",
       "<p>3 rows × 915 columns</p>\n",
       "</div>"
      ],
      "text/plain": [
       "        2018-07-01  2018-07-02  2018-07-03  2018-07-04  2018-07-05  \\\n",
       "Return    0.997161    0.997161    0.984408    0.984408    0.984408   \n",
       "Return         NaN         NaN         NaN         NaN         NaN   \n",
       "Return         NaN         NaN         NaN         NaN         NaN   \n",
       "\n",
       "        2018-07-06  2018-07-07  2018-07-08  2018-07-09  2018-07-10  ...  \\\n",
       "Return    0.984408    0.984408    0.984408    0.984408    0.984408  ...   \n",
       "Return         NaN         NaN         NaN         NaN         NaN  ...   \n",
       "Return         NaN         NaN         NaN         NaN         NaN  ...   \n",
       "\n",
       "        2020-12-22  2020-12-23  2020-12-24  2020-12-25  2020-12-26  \\\n",
       "Return    1.262858    1.234095    1.234095    1.234095    1.322768   \n",
       "Return    3.945092    3.855238    3.855238    3.855238    4.132250   \n",
       "Return    1.867769    1.867769    1.907518    1.907518    1.907518   \n",
       "\n",
       "        2020-12-27  2020-12-28  2020-12-29  2020-12-30  2020-12-31  \n",
       "Return    1.314526    1.314526    1.328000    1.399758    1.407560  \n",
       "Return    4.106500    4.106500    4.148593    4.372760    4.397135  \n",
       "Return    1.895631    1.954257    1.974288    2.080968    2.092568  \n",
       "\n",
       "[3 rows x 915 columns]"
      ]
     },
     "execution_count": 19,
     "metadata": {},
     "output_type": "execute_result"
    }
   ],
   "source": [
    "sklearn_NN5_over_returns"
   ]
  },
  {
   "cell_type": "code",
   "execution_count": 39,
   "metadata": {},
   "outputs": [],
   "source": [
    "def Plot_return(returns):\n",
    "    df = returns.T\n",
    "    df.columns = ['180_moving_window', '365_moving_window', '730_moving_window']\n",
    "    return df.plot.line()"
   ]
  },
  {
   "cell_type": "code",
   "execution_count": 46,
   "metadata": {},
   "outputs": [
    {
     "data": {
      "text/plain": [
       "<matplotlib.axes._subplots.AxesSubplot at 0x19270382880>"
      ]
     },
     "execution_count": 46,
     "metadata": {},
     "output_type": "execute_result"
    },
    {
     "data": {
      "image/png": "[encoded data removed]",
      "text/plain": [
       "<Figure size 432x288 with 1 Axes>"
      ]
     },
     "metadata": {
      "needs_background": "light"
     },
     "output_type": "display_data"
    }
   ],
   "source": [
    "Plot_return(sklearn_NN5_over_returns)"
   ]
  },
  {
   "cell_type": "code",
   "execution_count": null,
   "metadata": {},
   "outputs": [],
   "source": []
  }
 ],
 "metadata": {
  "interpreter": {
   "hash": "18e608831815d93cd99bcf6687ab99c6a782057a5c78ecd22dd3e646b357834f"
  },
  "kernelspec": {
   "display_name": "Python 3",
   "language": "python",
   "name": "python3"
  },
  "language_info": {
   "codemirror_mode": {
    "name": "ipython",
    "version": 3
   },
   "file_extension": ".py",
   "mimetype": "text/x-python",
   "name": "python",
   "nbconvert_exporter": "python",
   "pygments_lexer": "ipython3",
   "version": "3.8.3"
  }
 },
 "nbformat": 4,
 "nbformat_minor": 4
}
